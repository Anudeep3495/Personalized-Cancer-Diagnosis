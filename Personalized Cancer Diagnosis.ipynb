{
 "cells": [
  {
   "cell_type": "markdown",
   "metadata": {},
   "source": [
    "# Project Name : PERSONALIZED CANCER DIAGNOSIS"
   ]
  },
  {
   "cell_type": "markdown",
   "metadata": {},
   "source": [
    "<h2>This is an multi class classification problem we need to determine the Class label by using features like Gene,Variant\n",
    "and text(research of bio medical) , we need to find out the class label based on the features provided.</h2>"
   ]
  },
  {
   "cell_type": "code",
   "execution_count": 4,
   "metadata": {},
   "outputs": [
    {
     "name": "stderr",
     "output_type": "stream",
     "text": [
      "C:\\Users\\anudeep\\anaconda3\\lib\\site-packages\\sklearn\\utils\\deprecation.py:144: FutureWarning: The sklearn.metrics.classification module is  deprecated in version 0.22 and will be removed in version 0.24. The corresponding classes / functions should instead be imported from sklearn.metrics. Anything that cannot be imported from sklearn.metrics is now part of the private API.\n",
      "  warnings.warn(message, FutureWarning)\n"
     ]
    }
   ],
   "source": [
    "import pandas as pd\n",
    "import matplotlib.pyplot as plt\n",
    "import re\n",
    "import time\n",
    "import warnings\n",
    "import numpy as np\n",
    "from nltk.corpus import stopwords\n",
    "from sklearn.decomposition import TruncatedSVD\n",
    "from sklearn.preprocessing import normalize\n",
    "from sklearn.feature_extraction.text import CountVectorizer\n",
    "from sklearn.manifold import TSNE\n",
    "import seaborn as sns\n",
    "from sklearn.neighbors import KNeighborsClassifier\n",
    "from sklearn.metrics import confusion_matrix\n",
    "from sklearn.metrics.classification import accuracy_score, log_loss\n",
    "from sklearn.feature_extraction.text import TfidfVectorizer\n",
    "from sklearn.linear_model import SGDClassifier\n",
    "#from imblearn.over_sampling import SMOTE\n",
    "from collections import Counter\n",
    "from scipy.sparse import hstack\n",
    "from sklearn.multiclass import OneVsRestClassifier\n",
    "from sklearn.svm import SVC\n",
    "#from sklearn.cross_validation import StratifiedKFold \n",
    "from collections import Counter, defaultdict\n",
    "from sklearn.calibration import CalibratedClassifierCV\n",
    "from sklearn.naive_bayes import MultinomialNB\n",
    "from sklearn.naive_bayes import GaussianNB\n",
    "from sklearn.model_selection import train_test_split\n",
    "from sklearn.model_selection import GridSearchCV\n",
    "import math\n",
    "from sklearn.metrics import normalized_mutual_info_score\n",
    "from sklearn.ensemble import RandomForestClassifier\n",
    "warnings.filterwarnings(\"ignore\")\n",
    "\n",
    "#from mlxtend.classifier import StackingClassifier\n",
    "\n",
    "from sklearn import model_selection\n",
    "from sklearn.linear_model import LogisticRegression\n"
   ]
  },
  {
   "cell_type": "code",
   "execution_count": 5,
   "metadata": {},
   "outputs": [
    {
     "name": "stdout",
     "output_type": "stream",
     "text": [
      "Number of data points :  3321\n",
      "Number of features :  4\n",
      "Features :  ['ID' 'Gene' 'Variation' 'Class']\n"
     ]
    },
    {
     "data": {
      "text/html": [
       "<div>\n",
       "<style scoped>\n",
       "    .dataframe tbody tr th:only-of-type {\n",
       "        vertical-align: middle;\n",
       "    }\n",
       "\n",
       "    .dataframe tbody tr th {\n",
       "        vertical-align: top;\n",
       "    }\n",
       "\n",
       "    .dataframe thead th {\n",
       "        text-align: right;\n",
       "    }\n",
       "</style>\n",
       "<table border=\"1\" class=\"dataframe\">\n",
       "  <thead>\n",
       "    <tr style=\"text-align: right;\">\n",
       "      <th></th>\n",
       "      <th>ID</th>\n",
       "      <th>Gene</th>\n",
       "      <th>Variation</th>\n",
       "      <th>Class</th>\n",
       "    </tr>\n",
       "  </thead>\n",
       "  <tbody>\n",
       "    <tr>\n",
       "      <th>0</th>\n",
       "      <td>0</td>\n",
       "      <td>FAM58A</td>\n",
       "      <td>Truncating Mutations</td>\n",
       "      <td>1</td>\n",
       "    </tr>\n",
       "    <tr>\n",
       "      <th>1</th>\n",
       "      <td>1</td>\n",
       "      <td>CBL</td>\n",
       "      <td>W802*</td>\n",
       "      <td>2</td>\n",
       "    </tr>\n",
       "    <tr>\n",
       "      <th>2</th>\n",
       "      <td>2</td>\n",
       "      <td>CBL</td>\n",
       "      <td>Q249E</td>\n",
       "      <td>2</td>\n",
       "    </tr>\n",
       "    <tr>\n",
       "      <th>3</th>\n",
       "      <td>3</td>\n",
       "      <td>CBL</td>\n",
       "      <td>N454D</td>\n",
       "      <td>3</td>\n",
       "    </tr>\n",
       "    <tr>\n",
       "      <th>4</th>\n",
       "      <td>4</td>\n",
       "      <td>CBL</td>\n",
       "      <td>L399V</td>\n",
       "      <td>4</td>\n",
       "    </tr>\n",
       "  </tbody>\n",
       "</table>\n",
       "</div>"
      ],
      "text/plain": [
       "   ID    Gene             Variation  Class\n",
       "0   0  FAM58A  Truncating Mutations      1\n",
       "1   1     CBL                 W802*      2\n",
       "2   2     CBL                 Q249E      2\n",
       "3   3     CBL                 N454D      3\n",
       "4   4     CBL                 L399V      4"
      ]
     },
     "execution_count": 5,
     "metadata": {},
     "output_type": "execute_result"
    }
   ],
   "source": [
    "data = pd.read_csv('training_variants')\n",
    "print('Number of data points : ', data.shape[0])\n",
    "print('Number of features : ', data.shape[1])\n",
    "print('Features : ', data.columns.values)\n",
    "data.head()"
   ]
  },
  {
   "cell_type": "code",
   "execution_count": 6,
   "metadata": {},
   "outputs": [
    {
     "name": "stdout",
     "output_type": "stream",
     "text": [
      "Number of data points :  3321\n",
      "Number of features :  2\n",
      "Features :  ['ID' 'TEXT']\n"
     ]
    },
    {
     "data": {
      "text/html": [
       "<div>\n",
       "<style scoped>\n",
       "    .dataframe tbody tr th:only-of-type {\n",
       "        vertical-align: middle;\n",
       "    }\n",
       "\n",
       "    .dataframe tbody tr th {\n",
       "        vertical-align: top;\n",
       "    }\n",
       "\n",
       "    .dataframe thead th {\n",
       "        text-align: right;\n",
       "    }\n",
       "</style>\n",
       "<table border=\"1\" class=\"dataframe\">\n",
       "  <thead>\n",
       "    <tr style=\"text-align: right;\">\n",
       "      <th></th>\n",
       "      <th>ID</th>\n",
       "      <th>TEXT</th>\n",
       "    </tr>\n",
       "  </thead>\n",
       "  <tbody>\n",
       "    <tr>\n",
       "      <th>0</th>\n",
       "      <td>0</td>\n",
       "      <td>Cyclin-dependent kinases (CDKs) regulate a var...</td>\n",
       "    </tr>\n",
       "    <tr>\n",
       "      <th>1</th>\n",
       "      <td>1</td>\n",
       "      <td>Abstract Background  Non-small cell lung canc...</td>\n",
       "    </tr>\n",
       "    <tr>\n",
       "      <th>2</th>\n",
       "      <td>2</td>\n",
       "      <td>Abstract Background  Non-small cell lung canc...</td>\n",
       "    </tr>\n",
       "    <tr>\n",
       "      <th>3</th>\n",
       "      <td>3</td>\n",
       "      <td>Recent evidence has demonstrated that acquired...</td>\n",
       "    </tr>\n",
       "    <tr>\n",
       "      <th>4</th>\n",
       "      <td>4</td>\n",
       "      <td>Oncogenic mutations in the monomeric Casitas B...</td>\n",
       "    </tr>\n",
       "  </tbody>\n",
       "</table>\n",
       "</div>"
      ],
      "text/plain": [
       "   ID                                               TEXT\n",
       "0   0  Cyclin-dependent kinases (CDKs) regulate a var...\n",
       "1   1   Abstract Background  Non-small cell lung canc...\n",
       "2   2   Abstract Background  Non-small cell lung canc...\n",
       "3   3  Recent evidence has demonstrated that acquired...\n",
       "4   4  Oncogenic mutations in the monomeric Casitas B..."
      ]
     },
     "execution_count": 6,
     "metadata": {},
     "output_type": "execute_result"
    }
   ],
   "source": [
    "# note the seprator in this file\n",
    "data_text =pd.read_csv(\"training_text\",sep=\"\\|\\|\",engine=\"python\",names=[\"ID\",\"TEXT\"],skiprows=1)\n",
    "print('Number of data points : ', data_text.shape[0])\n",
    "print('Number of features : ', data_text.shape[1])\n",
    "print('Features : ', data_text.columns.values)\n",
    "data_text.head()"
   ]
  },
  {
   "cell_type": "code",
   "execution_count": 7,
   "metadata": {},
   "outputs": [],
   "source": [
    "# loading stop words from nltk library\n",
    "stop_words = set(stopwords.words('english'))\n",
    "\n",
    "\n",
    "def nlp_preprocessing(total_text, index, column):\n",
    "    if type(total_text) is not int:\n",
    "        string = \"\"\n",
    "        # replace every special char with space\n",
    "        total_text = re.sub('[^a-zA-Z0-9\\n]', ' ', total_text)\n",
    "        # replace multiple spaces with single space\n",
    "        total_text = re.sub('\\s+',' ', total_text)\n",
    "        # converting all the chars into lower-case.\n",
    "        total_text = total_text.lower()\n",
    "        \n",
    "        for word in total_text.split():\n",
    "        # if the word is a not a stop word then retain that word from the data\n",
    "            if not word in stop_words:\n",
    "                string += word + \" \"\n",
    "        \n",
    "        data_text[column][index] = string"
   ]
  },
  {
   "cell_type": "code",
   "execution_count": 8,
   "metadata": {},
   "outputs": [
    {
     "name": "stdout",
     "output_type": "stream",
     "text": [
      "there is no text description for id: 1109\n",
      "there is no text description for id: 1277\n",
      "there is no text description for id: 1407\n",
      "there is no text description for id: 1639\n",
      "there is no text description for id: 2755\n",
      "Time took for preprocessing the text : 53.74644928700218 seconds\n"
     ]
    }
   ],
   "source": [
    "#text processing stage.\n",
    "start_time = time.clock()\n",
    "for index, row in data_text.iterrows():\n",
    "    if type(row['TEXT']) is str:\n",
    "        nlp_preprocessing(row['TEXT'], index, 'TEXT')\n",
    "    else:\n",
    "        print(\"there is no text description for id:\",index)\n",
    "print('Time took for preprocessing the text :',time.clock() - start_time, \"seconds\")"
   ]
  },
  {
   "cell_type": "code",
   "execution_count": 9,
   "metadata": {},
   "outputs": [
    {
     "data": {
      "text/html": [
       "<div>\n",
       "<style scoped>\n",
       "    .dataframe tbody tr th:only-of-type {\n",
       "        vertical-align: middle;\n",
       "    }\n",
       "\n",
       "    .dataframe tbody tr th {\n",
       "        vertical-align: top;\n",
       "    }\n",
       "\n",
       "    .dataframe thead th {\n",
       "        text-align: right;\n",
       "    }\n",
       "</style>\n",
       "<table border=\"1\" class=\"dataframe\">\n",
       "  <thead>\n",
       "    <tr style=\"text-align: right;\">\n",
       "      <th></th>\n",
       "      <th>ID</th>\n",
       "      <th>Gene</th>\n",
       "      <th>Variation</th>\n",
       "      <th>Class</th>\n",
       "      <th>TEXT</th>\n",
       "    </tr>\n",
       "  </thead>\n",
       "  <tbody>\n",
       "    <tr>\n",
       "      <th>0</th>\n",
       "      <td>0</td>\n",
       "      <td>FAM58A</td>\n",
       "      <td>Truncating Mutations</td>\n",
       "      <td>1</td>\n",
       "      <td>cyclin dependent kinases cdks regulate variety...</td>\n",
       "    </tr>\n",
       "    <tr>\n",
       "      <th>1</th>\n",
       "      <td>1</td>\n",
       "      <td>CBL</td>\n",
       "      <td>W802*</td>\n",
       "      <td>2</td>\n",
       "      <td>abstract background non small cell lung cancer...</td>\n",
       "    </tr>\n",
       "    <tr>\n",
       "      <th>2</th>\n",
       "      <td>2</td>\n",
       "      <td>CBL</td>\n",
       "      <td>Q249E</td>\n",
       "      <td>2</td>\n",
       "      <td>abstract background non small cell lung cancer...</td>\n",
       "    </tr>\n",
       "    <tr>\n",
       "      <th>3</th>\n",
       "      <td>3</td>\n",
       "      <td>CBL</td>\n",
       "      <td>N454D</td>\n",
       "      <td>3</td>\n",
       "      <td>recent evidence demonstrated acquired uniparen...</td>\n",
       "    </tr>\n",
       "    <tr>\n",
       "      <th>4</th>\n",
       "      <td>4</td>\n",
       "      <td>CBL</td>\n",
       "      <td>L399V</td>\n",
       "      <td>4</td>\n",
       "      <td>oncogenic mutations monomeric casitas b lineag...</td>\n",
       "    </tr>\n",
       "  </tbody>\n",
       "</table>\n",
       "</div>"
      ],
      "text/plain": [
       "   ID    Gene             Variation  Class  \\\n",
       "0   0  FAM58A  Truncating Mutations      1   \n",
       "1   1     CBL                 W802*      2   \n",
       "2   2     CBL                 Q249E      2   \n",
       "3   3     CBL                 N454D      3   \n",
       "4   4     CBL                 L399V      4   \n",
       "\n",
       "                                                TEXT  \n",
       "0  cyclin dependent kinases cdks regulate variety...  \n",
       "1  abstract background non small cell lung cancer...  \n",
       "2  abstract background non small cell lung cancer...  \n",
       "3  recent evidence demonstrated acquired uniparen...  \n",
       "4  oncogenic mutations monomeric casitas b lineag...  "
      ]
     },
     "execution_count": 9,
     "metadata": {},
     "output_type": "execute_result"
    }
   ],
   "source": [
    "#merging both gene_variations and text data based on ID\n",
    "result = pd.merge(data, data_text,on='ID', how='left')\n",
    "result.head()"
   ]
  },
  {
   "cell_type": "code",
   "execution_count": 10,
   "metadata": {},
   "outputs": [
    {
     "data": {
      "text/html": [
       "<div>\n",
       "<style scoped>\n",
       "    .dataframe tbody tr th:only-of-type {\n",
       "        vertical-align: middle;\n",
       "    }\n",
       "\n",
       "    .dataframe tbody tr th {\n",
       "        vertical-align: top;\n",
       "    }\n",
       "\n",
       "    .dataframe thead th {\n",
       "        text-align: right;\n",
       "    }\n",
       "</style>\n",
       "<table border=\"1\" class=\"dataframe\">\n",
       "  <thead>\n",
       "    <tr style=\"text-align: right;\">\n",
       "      <th></th>\n",
       "      <th>ID</th>\n",
       "      <th>Gene</th>\n",
       "      <th>Variation</th>\n",
       "      <th>Class</th>\n",
       "      <th>TEXT</th>\n",
       "    </tr>\n",
       "  </thead>\n",
       "  <tbody>\n",
       "    <tr>\n",
       "      <th>1109</th>\n",
       "      <td>1109</td>\n",
       "      <td>FANCA</td>\n",
       "      <td>S1088F</td>\n",
       "      <td>1</td>\n",
       "      <td>NaN</td>\n",
       "    </tr>\n",
       "    <tr>\n",
       "      <th>1277</th>\n",
       "      <td>1277</td>\n",
       "      <td>ARID5B</td>\n",
       "      <td>Truncating Mutations</td>\n",
       "      <td>1</td>\n",
       "      <td>NaN</td>\n",
       "    </tr>\n",
       "    <tr>\n",
       "      <th>1407</th>\n",
       "      <td>1407</td>\n",
       "      <td>FGFR3</td>\n",
       "      <td>K508M</td>\n",
       "      <td>6</td>\n",
       "      <td>NaN</td>\n",
       "    </tr>\n",
       "    <tr>\n",
       "      <th>1639</th>\n",
       "      <td>1639</td>\n",
       "      <td>FLT1</td>\n",
       "      <td>Amplification</td>\n",
       "      <td>6</td>\n",
       "      <td>NaN</td>\n",
       "    </tr>\n",
       "    <tr>\n",
       "      <th>2755</th>\n",
       "      <td>2755</td>\n",
       "      <td>BRAF</td>\n",
       "      <td>G596C</td>\n",
       "      <td>7</td>\n",
       "      <td>NaN</td>\n",
       "    </tr>\n",
       "  </tbody>\n",
       "</table>\n",
       "</div>"
      ],
      "text/plain": [
       "        ID    Gene             Variation  Class TEXT\n",
       "1109  1109   FANCA                S1088F      1  NaN\n",
       "1277  1277  ARID5B  Truncating Mutations      1  NaN\n",
       "1407  1407   FGFR3                 K508M      6  NaN\n",
       "1639  1639    FLT1         Amplification      6  NaN\n",
       "2755  2755    BRAF                 G596C      7  NaN"
      ]
     },
     "execution_count": 10,
     "metadata": {},
     "output_type": "execute_result"
    }
   ],
   "source": [
    "result[result.isnull().any(axis=1)]"
   ]
  },
  {
   "cell_type": "code",
   "execution_count": 11,
   "metadata": {},
   "outputs": [],
   "source": [
    "result.loc[result['TEXT'].isnull(),'TEXT'] = result['Gene'] +' '+result['Variation']"
   ]
  },
  {
   "cell_type": "code",
   "execution_count": 12,
   "metadata": {},
   "outputs": [
    {
     "data": {
      "text/html": [
       "<div>\n",
       "<style scoped>\n",
       "    .dataframe tbody tr th:only-of-type {\n",
       "        vertical-align: middle;\n",
       "    }\n",
       "\n",
       "    .dataframe tbody tr th {\n",
       "        vertical-align: top;\n",
       "    }\n",
       "\n",
       "    .dataframe thead th {\n",
       "        text-align: right;\n",
       "    }\n",
       "</style>\n",
       "<table border=\"1\" class=\"dataframe\">\n",
       "  <thead>\n",
       "    <tr style=\"text-align: right;\">\n",
       "      <th></th>\n",
       "      <th>ID</th>\n",
       "      <th>Gene</th>\n",
       "      <th>Variation</th>\n",
       "      <th>Class</th>\n",
       "      <th>TEXT</th>\n",
       "    </tr>\n",
       "  </thead>\n",
       "  <tbody>\n",
       "    <tr>\n",
       "      <th>1109</th>\n",
       "      <td>1109</td>\n",
       "      <td>FANCA</td>\n",
       "      <td>S1088F</td>\n",
       "      <td>1</td>\n",
       "      <td>FANCA S1088F</td>\n",
       "    </tr>\n",
       "  </tbody>\n",
       "</table>\n",
       "</div>"
      ],
      "text/plain": [
       "        ID   Gene Variation  Class          TEXT\n",
       "1109  1109  FANCA    S1088F      1  FANCA S1088F"
      ]
     },
     "execution_count": 12,
     "metadata": {},
     "output_type": "execute_result"
    }
   ],
   "source": [
    "result[result['ID']==1109]"
   ]
  },
  {
   "cell_type": "code",
   "execution_count": 13,
   "metadata": {},
   "outputs": [],
   "source": [
    "y_true = result['Class']\n",
    "result.Gene      = result.Gene.str.replace('\\s+', '_')\n",
    "result.Variation = result.Variation.str.replace('\\s+', '_')\n",
    "\n",
    "# split the data into test and train by maintaining same distribution of output varaible 'y_true' [stratify=y_true]\n",
    "X_train, X_test, y_train, y_test = train_test_split(result, y_true, stratify=y_true, test_size=0.33,random_state=45)\n"
   ]
  },
  {
   "cell_type": "code",
   "execution_count": 14,
   "metadata": {},
   "outputs": [
    {
     "data": {
      "text/plain": [
       "(2225, 5)"
      ]
     },
     "execution_count": 14,
     "metadata": {},
     "output_type": "execute_result"
    }
   ],
   "source": [
    "X_train.shape"
   ]
  },
  {
   "cell_type": "markdown",
   "metadata": {},
   "source": [
    "Distribution of yi's"
   ]
  },
  {
   "cell_type": "code",
   "execution_count": 15,
   "metadata": {},
   "outputs": [
    {
     "data": {
      "image/png": "[encoded data removed]",
      "text/plain": [
       "<Figure size 432x288 with 1 Axes>"
      ]
     },
     "metadata": {
      "needs_background": "light"
     },
     "output_type": "display_data"
    },
    {
     "name": "stdout",
     "output_type": "stream",
     "text": [
      "Number of data points in class 1 : 638 ( 28.674 %)\n",
      "Number of data points in class 2 : 460 ( 20.674 %)\n",
      "Number of data points in class 3 : 380 ( 17.079 %)\n",
      "Number of data points in class 4 : 303 ( 13.618 %)\n",
      "Number of data points in class 5 : 184 ( 8.27 %)\n",
      "Number of data points in class 6 : 162 ( 7.281 %)\n",
      "Number of data points in class 7 : 60 ( 2.697 %)\n",
      "Number of data points in class 8 : 25 ( 1.124 %)\n",
      "Number of data points in class 9 : 13 ( 0.584 %)\n",
      "--------------------------------------------------------------------------------\n"
     ]
    },
    {
     "data": {
      "image/png": "[encoded data removed]",
      "text/plain": [
       "<Figure size 432x288 with 1 Axes>"
      ]
     },
     "metadata": {
      "needs_background": "light"
     },
     "output_type": "display_data"
    },
    {
     "name": "stdout",
     "output_type": "stream",
     "text": [
      "Number of data points in class 1 : 315 ( 28.741 %)\n",
      "Number of data points in class 2 : 226 ( 20.62 %)\n",
      "Number of data points in class 3 : 188 ( 17.153 %)\n",
      "Number of data points in class 4 : 149 ( 13.595 %)\n",
      "Number of data points in class 5 : 91 ( 8.303 %)\n",
      "Number of data points in class 6 : 80 ( 7.299 %)\n",
      "Number of data points in class 7 : 29 ( 2.646 %)\n",
      "Number of data points in class 8 : 12 ( 1.095 %)\n",
      "Number of data points in class 9 : 6 ( 0.547 %)\n"
     ]
    }
   ],
   "source": [
    "train_class_distribution = y_train.value_counts()\n",
    "test_class_distribution = y_test.value_counts()\n",
    "\n",
    "my_colors = 'rgbkymc'\n",
    "train_class_distribution.plot(kind='bar')\n",
    "plt.xlabel('Class')\n",
    "plt.ylabel('Data points per Class')\n",
    "plt.title('Distribution of yi in train data')\n",
    "plt.grid()\n",
    "plt.show()\n",
    "\n",
    "sorted_yi = np.argsort(-train_class_distribution.values)\n",
    "for i in sorted_yi:\n",
    "    print('Number of data points in class', i+1, ':',train_class_distribution.values[i], '(', np.round((train_class_distribution.values[i]/y_train.shape[0]*100), 3), '%)')\n",
    "\n",
    "    \n",
    "print('-'*80)\n",
    "my_colors = 'rgbkymc'\n",
    "test_class_distribution.plot(kind='bar')\n",
    "plt.xlabel('Class')\n",
    "plt.ylabel('Data points per Class')\n",
    "plt.title('Distribution of yi in test data')\n",
    "plt.grid()\n",
    "plt.show()\n",
    "\n",
    "sorted_yi = np.argsort(-test_class_distribution.values)\n",
    "for i in sorted_yi:\n",
    "    print('Number of data points in class', i+1, ':',test_class_distribution.values[i], '(', np.round((test_class_distribution.values[i]/y_test.shape[0]*100), 3), '%)')\n"
   ]
  },
  {
   "cell_type": "markdown",
   "metadata": {},
   "source": [
    "# Univariate Analysis - GENE Feature"
   ]
  },
  {
   "cell_type": "code",
   "execution_count": 16,
   "metadata": {},
   "outputs": [
    {
     "name": "stdout",
     "output_type": "stream",
     "text": [
      "Number of Unique Genes : 237\n",
      "BRCA1     181\n",
      "TP53      104\n",
      "PTEN       87\n",
      "EGFR       86\n",
      "BRCA2      72\n",
      "KIT        69\n",
      "BRAF       60\n",
      "ERBB2      47\n",
      "PDGFRA     44\n",
      "ALK        42\n",
      "Name: Gene, dtype: int64\n"
     ]
    }
   ],
   "source": [
    "unique_genes = X_train['Gene'].value_counts()\n",
    "print('Number of Unique Genes :', unique_genes.shape[0])\n",
    "# the top 10 genes that occured most\n",
    "print(unique_genes.head(10))"
   ]
  },
  {
   "cell_type": "code",
   "execution_count": 17,
   "metadata": {},
   "outputs": [
    {
     "data": {
      "image/png": "[encoded data removed]",
      "text/plain": [
       "<Figure size 432x288 with 1 Axes>"
      ]
     },
     "metadata": {
      "needs_background": "light"
     },
     "output_type": "display_data"
    }
   ],
   "source": [
    "s = sum(unique_genes.values);\n",
    "h = unique_genes.values/s;\n",
    "plt.plot(h, label=\"Histrogram of Genes\")\n",
    "plt.xlabel('Index of a Gene')\n",
    "plt.ylabel('Number of Occurances')\n",
    "plt.legend()\n",
    "plt.grid()\n",
    "plt.show()"
   ]
  },
  {
   "cell_type": "code",
   "execution_count": 18,
   "metadata": {},
   "outputs": [
    {
     "data": {
      "image/png": "[encoded data removed]",
      "text/plain": [
       "<Figure size 432x288 with 1 Axes>"
      ]
     },
     "metadata": {
      "needs_background": "light"
     },
     "output_type": "display_data"
    }
   ],
   "source": [
    "c = np.cumsum(h)\n",
    "plt.plot(c,label='Cumulative distribution of Genes')\n",
    "plt.grid()\n",
    "plt.legend()\n",
    "plt.show()"
   ]
  },
  {
   "cell_type": "markdown",
   "metadata": {},
   "source": [
    "# Feature engineering (MEAN ENCODING) on GENE Feature"
   ]
  },
  {
   "cell_type": "code",
   "execution_count": 19,
   "metadata": {},
   "outputs": [
    {
     "data": {
      "text/plain": [
       "Gene\n",
       "ABL1       2.500000\n",
       "ACVR1      4.500000\n",
       "AGO2       1.500000\n",
       "AKT1       5.842105\n",
       "AKT2       7.400000\n",
       "             ...   \n",
       "WHSC1      7.000000\n",
       "WHSC1L1    6.000000\n",
       "XPO1       4.000000\n",
       "XRCC2      1.000000\n",
       "YAP1       3.250000\n",
       "Name: Class, Length: 237, dtype: float64"
      ]
     },
     "execution_count": 19,
     "metadata": {},
     "output_type": "execute_result"
    }
   ],
   "source": [
    "X_train.groupby(['Gene'])['Class'].mean()"
   ]
  },
  {
   "cell_type": "code",
   "execution_count": 20,
   "metadata": {},
   "outputs": [
    {
     "data": {
      "text/plain": [
       "{'ABL1': 2.5,\n",
       " 'ACVR1': 4.5,\n",
       " 'AGO2': 1.5,\n",
       " 'AKT1': 5.842105263157895,\n",
       " 'AKT2': 7.4,\n",
       " 'AKT3': 5.333333333333333,\n",
       " 'ALK': 5.380952380952381,\n",
       " 'APC': 2.2,\n",
       " 'AR': 5.6,\n",
       " 'ARAF': 7.0,\n",
       " 'ARID1A': 1.0,\n",
       " 'ARID1B': 1.0,\n",
       " 'ARID2': 1.0,\n",
       " 'ARID5B': 1.0,\n",
       " 'ASXL2': 1.0,\n",
       " 'ATM': 2.5,\n",
       " 'ATRX': 1.0,\n",
       " 'AURKA': 5.5,\n",
       " 'AURKB': 2.0,\n",
       " 'AXIN1': 1.0,\n",
       " 'AXL': 2.0,\n",
       " 'B2M': 2.0,\n",
       " 'BAP1': 2.8,\n",
       " 'BARD1': 1.0,\n",
       " 'BCL10': 1.0,\n",
       " 'BCL2': 7.0,\n",
       " 'BCOR': 6.25,\n",
       " 'BRAF': 4.983333333333333,\n",
       " 'BRCA1': 3.9447513812154695,\n",
       " 'BRCA2': 5.111111111111111,\n",
       " 'BRIP1': 3.2,\n",
       " 'BTK': 5.5,\n",
       " 'CARD11': 6.0,\n",
       " 'CASP8': 3.2,\n",
       " 'CBL': 3.857142857142857,\n",
       " 'CCND1': 7.0,\n",
       " 'CCND2': 2.0,\n",
       " 'CCND3': 3.25,\n",
       " 'CCNE1': 7.0,\n",
       " 'CDH1': 2.5,\n",
       " 'CDK12': 2.875,\n",
       " 'CDK4': 7.0,\n",
       " 'CDK6': 4.0,\n",
       " 'CDKN1A': 2.6666666666666665,\n",
       " 'CDKN1B': 4.0,\n",
       " 'CDKN2A': 3.806451612903226,\n",
       " 'CDKN2B': 3.5,\n",
       " 'CDKN2C': 1.0,\n",
       " 'CEBPA': 1.0,\n",
       " 'CHEK2': 4.2,\n",
       " 'CIC': 3.6666666666666665,\n",
       " 'CREBBP': 2.1666666666666665,\n",
       " 'CTCF': 3.6666666666666665,\n",
       " 'CTLA4': 1.0,\n",
       " 'CTNNB1': 6.583333333333333,\n",
       " 'DDR2': 6.0,\n",
       " 'DICER1': 2.5,\n",
       " 'DNMT3A': 1.0,\n",
       " 'DNMT3B': 2.0,\n",
       " 'DUSP4': 6.0,\n",
       " 'EGFR': 5.383720930232558,\n",
       " 'ELF3': 3.0,\n",
       " 'EP300': 4.6,\n",
       " 'EPAS1': 2.0,\n",
       " 'EPCAM': 4.0,\n",
       " 'ERBB2': 5.319148936170213,\n",
       " 'ERBB3': 6.555555555555555,\n",
       " 'ERBB4': 5.6923076923076925,\n",
       " 'ERCC2': 1.4166666666666667,\n",
       " 'ERCC4': 2.5,\n",
       " 'ERG': 5.333333333333333,\n",
       " 'ESR1': 5.2,\n",
       " 'ETV1': 7.0,\n",
       " 'ETV6': 4.0,\n",
       " 'EWSR1': 4.857142857142857,\n",
       " 'EZH2': 8.333333333333334,\n",
       " 'FAM58A': 1.0,\n",
       " 'FANCA': 3.0,\n",
       " 'FANCC': 1.0,\n",
       " 'FAT1': 2.0,\n",
       " 'FBXW7': 2.6666666666666665,\n",
       " 'FGF19': 2.0,\n",
       " 'FGF4': 6.0,\n",
       " 'FGFR1': 5.9,\n",
       " 'FGFR2': 5.714285714285714,\n",
       " 'FGFR3': 4.892857142857143,\n",
       " 'FGFR4': 7.0,\n",
       " 'FLT3': 5.606060606060606,\n",
       " 'FOXA1': 2.1666666666666665,\n",
       " 'FOXO1': 1.0,\n",
       " 'FOXP1': 1.0,\n",
       " 'FUBP1': 1.0,\n",
       " 'GATA3': 2.0,\n",
       " 'GLI1': 1.0,\n",
       " 'GNAQ': 7.0,\n",
       " 'GNAS': 5.0,\n",
       " 'H3F3A': 8.0,\n",
       " 'HIST1H1C': 1.0,\n",
       " 'HLA-A': 1.0,\n",
       " 'HLA-B': 1.0,\n",
       " 'HNF1A': 1.0,\n",
       " 'HRAS': 3.4285714285714284,\n",
       " 'IDH1': 6.363636363636363,\n",
       " 'IDH2': 8.5,\n",
       " 'IGF1R': 1.6666666666666667,\n",
       " 'IL7R': 7.0,\n",
       " 'INPP4B': 1.0,\n",
       " 'JAK1': 6.6,\n",
       " 'JAK2': 6.083333333333333,\n",
       " 'KDM5C': 4.0,\n",
       " 'KDM6A': 1.0,\n",
       " 'KDR': 5.8,\n",
       " 'KEAP1': 3.1,\n",
       " 'KIT': 4.536231884057971,\n",
       " 'KLF4': 2.0,\n",
       " 'KMT2A': 3.0,\n",
       " 'KMT2B': 6.0,\n",
       " 'KMT2C': 4.5,\n",
       " 'KMT2D': 1.0,\n",
       " 'KNSTRN': 1.0,\n",
       " 'KRAS': 6.2727272727272725,\n",
       " 'LATS1': 4.0,\n",
       " 'LATS2': 4.0,\n",
       " 'MAP2K1': 5.857142857142857,\n",
       " 'MAP2K2': 5.7,\n",
       " 'MAP2K4': 3.2857142857142856,\n",
       " 'MAP3K1': 2.6666666666666665,\n",
       " 'MAPK1': 7.0,\n",
       " 'MDM2': 7.0,\n",
       " 'MDM4': 7.0,\n",
       " 'MED12': 4.2,\n",
       " 'MEF2B': 5.0,\n",
       " 'MEN1': 4.0,\n",
       " 'MET': 5.52,\n",
       " 'MGA': 1.0,\n",
       " 'MLH1': 3.85,\n",
       " 'MPL': 7.0,\n",
       " 'MSH2': 3.75,\n",
       " 'MSH6': 3.2222222222222223,\n",
       " 'MTOR': 5.59375,\n",
       " 'MYC': 5.428571428571429,\n",
       " 'MYD88': 7.0,\n",
       " 'MYOD1': 2.0,\n",
       " 'NCOR1': 1.0,\n",
       " 'NF1': 3.5714285714285716,\n",
       " 'NF2': 2.125,\n",
       " 'NFE2L2': 6.375,\n",
       " 'NFKBIA': 2.0,\n",
       " 'NKX2-1': 3.25,\n",
       " 'NOTCH1': 4.458333333333333,\n",
       " 'NOTCH2': 1.5,\n",
       " 'NPM1': 1.0,\n",
       " 'NRAS': 5.777777777777778,\n",
       " 'NTRK1': 5.7,\n",
       " 'NTRK2': 1.0,\n",
       " 'NTRK3': 5.333333333333333,\n",
       " 'NUP93': 1.0,\n",
       " 'PBRM1': 1.0,\n",
       " 'PDGFRA': 6.090909090909091,\n",
       " 'PDGFRB': 3.2222222222222223,\n",
       " 'PIK3CA': 5.256410256410256,\n",
       " 'PIK3CB': 3.0,\n",
       " 'PIK3CD': 7.0,\n",
       " 'PIK3R1': 3.0,\n",
       " 'PIK3R2': 5.0,\n",
       " 'PIM1': 4.8,\n",
       " 'PMS1': 4.0,\n",
       " 'PMS2': 2.9166666666666665,\n",
       " 'POLE': 2.875,\n",
       " 'PPM1D': 7.0,\n",
       " 'PPP2R1A': 2.2222222222222223,\n",
       " 'PPP6C': 4.0,\n",
       " 'PRDM1': 3.25,\n",
       " 'PTCH1': 3.0,\n",
       " 'PTEN': 3.954022988505747,\n",
       " 'PTPN11': 6.0,\n",
       " 'PTPRD': 1.0,\n",
       " 'PTPRT': 2.588235294117647,\n",
       " 'RAB35': 7.0,\n",
       " 'RAC1': 7.0,\n",
       " 'RAD21': 1.0,\n",
       " 'RAD50': 1.0,\n",
       " 'RAD51B': 8.0,\n",
       " 'RAD51C': 2.0,\n",
       " 'RAD51D': 1.0,\n",
       " 'RAD54L': 4.0,\n",
       " 'RAF1': 5.5,\n",
       " 'RASA1': 1.0,\n",
       " 'RB1': 3.25,\n",
       " 'RBM10': 2.0,\n",
       " 'RET': 5.285714285714286,\n",
       " 'RHEB': 7.0,\n",
       " 'RHOA': 4.454545454545454,\n",
       " 'RIT1': 4.5,\n",
       " 'RNF43': 1.0,\n",
       " 'ROS1': 3.111111111111111,\n",
       " 'RRAS2': 7.0,\n",
       " 'RUNX1': 3.8333333333333335,\n",
       " 'RXRA': 6.0,\n",
       " 'SDHB': 4.0,\n",
       " 'SDHC': 4.0,\n",
       " 'SETD2': 3.0,\n",
       " 'SF3B1': 8.909090909090908,\n",
       " 'SHOC2': 4.0,\n",
       " 'SHQ1': 1.0,\n",
       " 'SMAD2': 3.0,\n",
       " 'SMAD3': 2.4375,\n",
       " 'SMAD4': 3.3043478260869565,\n",
       " 'SMARCA4': 3.4,\n",
       " 'SMARCB1': 1.0,\n",
       " 'SMO': 4.466666666666667,\n",
       " 'SOS1': 5.333333333333333,\n",
       " 'SOX9': 3.3333333333333335,\n",
       " 'SPOP': 3.076923076923077,\n",
       " 'SRC': 7.0,\n",
       " 'SRSF2': 4.0,\n",
       " 'STAG2': 1.0,\n",
       " 'STAT3': 5.333333333333333,\n",
       " 'STK11': 3.142857142857143,\n",
       " 'TCF3': 4.0,\n",
       " 'TERT': 5.166666666666667,\n",
       " 'TET1': 3.0,\n",
       " 'TET2': 4.1,\n",
       " 'TGFBR1': 3.25,\n",
       " 'TGFBR2': 2.75,\n",
       " 'TMPRSS2': 4.0,\n",
       " 'TP53': 2.644230769230769,\n",
       " 'TP53BP1': 1.0,\n",
       " 'TSC1': 3.1333333333333333,\n",
       " 'TSC2': 2.838709677419355,\n",
       " 'U2AF1': 9.0,\n",
       " 'VHL': 2.814814814814815,\n",
       " 'WHSC1': 7.0,\n",
       " 'WHSC1L1': 6.0,\n",
       " 'XPO1': 4.0,\n",
       " 'XRCC2': 1.0,\n",
       " 'YAP1': 3.25}"
      ]
     },
     "execution_count": 20,
     "metadata": {},
     "output_type": "execute_result"
    }
   ],
   "source": [
    "ordered_labels = X_train.groupby(['Gene'])['Class'].mean().to_dict()\n",
    "ordered_labels"
   ]
  },
  {
   "cell_type": "code",
   "execution_count": 21,
   "metadata": {},
   "outputs": [],
   "source": [
    "X_train['Gene_fe'] = X_train.Gene.map(ordered_labels)\n",
    "X_test['Gene_fe'] = X_test.Gene.map(ordered_labels)"
   ]
  },
  {
   "cell_type": "code",
   "execution_count": 22,
   "metadata": {},
   "outputs": [
    {
     "data": {
      "text/html": [
       "<div>\n",
       "<style scoped>\n",
       "    .dataframe tbody tr th:only-of-type {\n",
       "        vertical-align: middle;\n",
       "    }\n",
       "\n",
       "    .dataframe tbody tr th {\n",
       "        vertical-align: top;\n",
       "    }\n",
       "\n",
       "    .dataframe thead th {\n",
       "        text-align: right;\n",
       "    }\n",
       "</style>\n",
       "<table border=\"1\" class=\"dataframe\">\n",
       "  <thead>\n",
       "    <tr style=\"text-align: right;\">\n",
       "      <th></th>\n",
       "      <th>ID</th>\n",
       "      <th>Gene</th>\n",
       "      <th>Variation</th>\n",
       "      <th>Class</th>\n",
       "      <th>TEXT</th>\n",
       "      <th>Gene_fe</th>\n",
       "    </tr>\n",
       "  </thead>\n",
       "  <tbody>\n",
       "    <tr>\n",
       "      <th>1934</th>\n",
       "      <td>1934</td>\n",
       "      <td>CARD11</td>\n",
       "      <td>C49Y</td>\n",
       "      <td>7</td>\n",
       "      <td>three new benta patients sharing novel autosom...</td>\n",
       "      <td>6.000000</td>\n",
       "    </tr>\n",
       "    <tr>\n",
       "      <th>2518</th>\n",
       "      <td>2518</td>\n",
       "      <td>BRCA1</td>\n",
       "      <td>M1775K</td>\n",
       "      <td>4</td>\n",
       "      <td>abstract brca1 gene individuals risk breast ov...</td>\n",
       "      <td>3.944751</td>\n",
       "    </tr>\n",
       "    <tr>\n",
       "      <th>415</th>\n",
       "      <td>415</td>\n",
       "      <td>TP53</td>\n",
       "      <td>L330R</td>\n",
       "      <td>1</td>\n",
       "      <td>tumor suppressor protein p53 transcription fac...</td>\n",
       "      <td>2.644231</td>\n",
       "    </tr>\n",
       "    <tr>\n",
       "      <th>864</th>\n",
       "      <td>864</td>\n",
       "      <td>ERG</td>\n",
       "      <td>TMPRSS2-ERG_Fusion</td>\n",
       "      <td>7</td>\n",
       "      <td>tmprss2 erg gene fusions occur 50 prostate can...</td>\n",
       "      <td>5.333333</td>\n",
       "    </tr>\n",
       "    <tr>\n",
       "      <th>3212</th>\n",
       "      <td>3212</td>\n",
       "      <td>RB1</td>\n",
       "      <td>Truncating_Mutations</td>\n",
       "      <td>1</td>\n",
       "      <td>retinoblastoma pediatric tumor developing reti...</td>\n",
       "      <td>3.250000</td>\n",
       "    </tr>\n",
       "  </tbody>\n",
       "</table>\n",
       "</div>"
      ],
      "text/plain": [
       "        ID    Gene             Variation  Class  \\\n",
       "1934  1934  CARD11                  C49Y      7   \n",
       "2518  2518   BRCA1                M1775K      4   \n",
       "415    415    TP53                 L330R      1   \n",
       "864    864     ERG    TMPRSS2-ERG_Fusion      7   \n",
       "3212  3212     RB1  Truncating_Mutations      1   \n",
       "\n",
       "                                                   TEXT   Gene_fe  \n",
       "1934  three new benta patients sharing novel autosom...  6.000000  \n",
       "2518  abstract brca1 gene individuals risk breast ov...  3.944751  \n",
       "415   tumor suppressor protein p53 transcription fac...  2.644231  \n",
       "864   tmprss2 erg gene fusions occur 50 prostate can...  5.333333  \n",
       "3212  retinoblastoma pediatric tumor developing reti...  3.250000  "
      ]
     },
     "execution_count": 22,
     "metadata": {},
     "output_type": "execute_result"
    }
   ],
   "source": [
    "X_train.head()"
   ]
  },
  {
   "cell_type": "code",
   "execution_count": 23,
   "metadata": {},
   "outputs": [],
   "source": [
    "X_test['Gene_fe'].fillna(X_train['Gene_fe'].mean(),inplace=True)"
   ]
  },
  {
   "cell_type": "code",
   "execution_count": 24,
   "metadata": {},
   "outputs": [
    {
     "name": "stdout",
     "output_type": "stream",
     "text": [
      "For values of alpha =  1e-05 The log loss is: 1.5461885153198667\n",
      "For values of alpha =  0.0001 The log loss is: 1.5461885129114294\n",
      "For values of alpha =  0.001 The log loss is: 1.5461885105279347\n",
      "For values of alpha =  0.01 The log loss is: 1.54618851444098\n",
      "For values of alpha =  0.1 The log loss is: 1.5461885136008062\n",
      "For values of alpha =  1 The log loss is: 1.546188518377175\n"
     ]
    },
    {
     "data": {
      "image/png": "[encoded data removed]",
      "text/plain": [
       "<Figure size 432x288 with 1 Axes>"
      ]
     },
     "metadata": {
      "needs_background": "light"
     },
     "output_type": "display_data"
    },
    {
     "name": "stdout",
     "output_type": "stream",
     "text": [
      "For values of best alpha =  0.001 The train log loss is: 1.4981381992189313\n",
      "For values of best alpha =  0.001 The test log loss is: 1.5461885105279347\n"
     ]
    }
   ],
   "source": [
    "alpha = [10 ** x for x in range(-5, 1)] # hyperparam for SGD classifier.\n",
    "cv_log_error_array=[]\n",
    "for i in alpha:\n",
    "    clf = SGDClassifier(alpha=i, penalty='l2', loss='log', random_state=42)\n",
    "    clf.fit(X_train[['Gene_fe']], y_train)\n",
    "    sig_clf = CalibratedClassifierCV(clf, method=\"sigmoid\")\n",
    "    sig_clf.fit(X_train[['Gene_fe']], y_train)\n",
    "    predict_y = sig_clf.predict_proba(X_test[['Gene_fe']])\n",
    "    cv_log_error_array.append(log_loss(y_test, predict_y, labels=clf.classes_, eps=1e-15))\n",
    "    print('For values of alpha = ', i, \"The log loss is:\",log_loss(y_test, predict_y, labels=clf.classes_, eps=1e-15))\n",
    "\n",
    "fig, ax = plt.subplots()\n",
    "ax.plot(alpha, cv_log_error_array,c='g')\n",
    "for i, txt in enumerate(np.round(cv_log_error_array,3)):\n",
    "    ax.annotate((alpha[i],np.round(txt,3)), (alpha[i],cv_log_error_array[i]))\n",
    "plt.grid()\n",
    "plt.xlabel(\"Alpha i's\")\n",
    "plt.ylabel(\"Error measure\")\n",
    "plt.show()\n",
    "\n",
    "\n",
    "best_alpha = np.argmin(cv_log_error_array)\n",
    "clf = SGDClassifier(alpha=alpha[best_alpha], penalty='l2', loss='log', random_state=42)\n",
    "clf.fit(X_train[['Gene_fe']], y_train)\n",
    "sig_clf = CalibratedClassifierCV(clf, method=\"sigmoid\")\n",
    "sig_clf.fit(X_train[['Gene_fe']], y_train)\n",
    "\n",
    "predict_y = sig_clf.predict_proba(X_train[['Gene_fe']])\n",
    "print('For values of best alpha = ', alpha[best_alpha], \"The train log loss is:\",log_loss(y_train, predict_y, labels=clf.classes_, eps=1e-15))\n",
    "predict_y = sig_clf.predict_proba(X_test[['Gene_fe']])\n",
    "print('For values of best alpha = ', alpha[best_alpha], \"The test log loss is:\",log_loss(y_test, predict_y, labels=clf.classes_, eps=1e-15))\n"
   ]
  },
  {
   "cell_type": "markdown",
   "metadata": {},
   "source": [
    "# UNIVARIATE ANALYSIS on Variation Feature"
   ]
  },
  {
   "cell_type": "code",
   "execution_count": 25,
   "metadata": {},
   "outputs": [
    {
     "name": "stdout",
     "output_type": "stream",
     "text": [
      "Number of Unique Variations : 2017\n",
      "Truncating_Mutations    66\n",
      "Deletion                55\n",
      "Amplification           45\n",
      "Fusions                 19\n",
      "Overexpression           4\n",
      "Q61R                     3\n",
      "G12V                     3\n",
      "Q61L                     3\n",
      "T286A                    2\n",
      "K117N                    2\n",
      "Name: Variation, dtype: int64\n"
     ]
    }
   ],
   "source": [
    "unique_variations = X_train['Variation'].value_counts()\n",
    "print('Number of Unique Variations :', unique_variations.shape[0])\n",
    "# the top 10 variations that occured most\n",
    "print(unique_variations.head(10))"
   ]
  },
  {
   "cell_type": "code",
   "execution_count": 26,
   "metadata": {},
   "outputs": [
    {
     "data": {
      "image/png": "[encoded data removed]",
      "text/plain": [
       "<Figure size 432x288 with 1 Axes>"
      ]
     },
     "metadata": {
      "needs_background": "light"
     },
     "output_type": "display_data"
    }
   ],
   "source": [
    "s = sum(unique_variations.values);\n",
    "h = unique_variations.values/s;\n",
    "plt.plot(h, label=\"Histrogram of Variations\")\n",
    "plt.xlabel('Index of a Variation')\n",
    "plt.ylabel('Number of Occurances')\n",
    "plt.legend()\n",
    "plt.grid()\n",
    "plt.show()"
   ]
  },
  {
   "cell_type": "code",
   "execution_count": 27,
   "metadata": {},
   "outputs": [
    {
     "data": {
      "image/png": "[encoded data removed]",
      "text/plain": [
       "<Figure size 432x288 with 1 Axes>"
      ]
     },
     "metadata": {
      "needs_background": "light"
     },
     "output_type": "display_data"
    }
   ],
   "source": [
    "c = np.cumsum(h)\n",
    "plt.plot(c,label='Cumulative distribution of Variations')\n",
    "plt.grid()\n",
    "plt.legend()\n",
    "plt.show()"
   ]
  },
  {
   "cell_type": "markdown",
   "metadata": {},
   "source": [
    "# Feature engineering (ONE HOT ENCODING) on Variation Feature"
   ]
  },
  {
   "cell_type": "code",
   "execution_count": 28,
   "metadata": {},
   "outputs": [],
   "source": [
    "variation_vectorizer = CountVectorizer()\n",
    "train_variation_feature_onehotCoding = variation_vectorizer.fit_transform(X_train['Variation'])\n",
    "test_variation_feature_onehotCoding = variation_vectorizer.transform(X_test['Variation'])"
   ]
  },
  {
   "cell_type": "code",
   "execution_count": 29,
   "metadata": {},
   "outputs": [
    {
     "name": "stdout",
     "output_type": "stream",
     "text": [
      "For values of alpha =  1e-05 The log loss is: 1.7227702509296232\n",
      "For values of alpha =  0.0001 The log loss is: 1.7149261445433195\n",
      "For values of alpha =  0.001 The log loss is: 1.7129433052778362\n",
      "For values of alpha =  0.01 The log loss is: 1.72415501028724\n",
      "For values of alpha =  0.1 The log loss is: 1.7346306327294252\n",
      "For values of alpha =  1 The log loss is: 1.7364049041791751\n"
     ]
    },
    {
     "data": {
      "image/png": "[encoded data removed]",
      "text/plain": [
       "<Figure size 432x288 with 1 Axes>"
      ]
     },
     "metadata": {
      "needs_background": "light"
     },
     "output_type": "display_data"
    },
    {
     "name": "stdout",
     "output_type": "stream",
     "text": [
      "For values of best alpha =  0.001 The train log loss is: 1.0379805839121237\n",
      "For values of best alpha =  0.001 The test log loss is: 1.7129433052778362\n"
     ]
    }
   ],
   "source": [
    "alpha = [10 ** x for x in range(-5, 1)] # hyperparam for SGD classifier.\n",
    "cv_log_error_array=[]\n",
    "for i in alpha:\n",
    "    clf = SGDClassifier(alpha=i, penalty='l2', loss='log', random_state=42)\n",
    "    clf.fit(train_variation_feature_onehotCoding, y_train)\n",
    "    sig_clf = CalibratedClassifierCV(clf, method=\"sigmoid\")\n",
    "    sig_clf.fit(train_variation_feature_onehotCoding, y_train)\n",
    "    predict_y = sig_clf.predict_proba(test_variation_feature_onehotCoding)\n",
    "    cv_log_error_array.append(log_loss(y_test, predict_y, labels=clf.classes_, eps=1e-15))\n",
    "    print('For values of alpha = ', i, \"The log loss is:\",log_loss(y_test, predict_y, labels=clf.classes_, eps=1e-15))\n",
    "\n",
    "fig, ax = plt.subplots()\n",
    "ax.plot(alpha, cv_log_error_array,c='g')\n",
    "for i, txt in enumerate(np.round(cv_log_error_array,3)):\n",
    "    ax.annotate((alpha[i],np.round(txt,3)), (alpha[i],cv_log_error_array[i]))\n",
    "plt.grid()\n",
    "plt.xlabel(\"Alpha i's\")\n",
    "plt.ylabel(\"Error measure\")\n",
    "plt.show()\n",
    "\n",
    "\n",
    "best_alpha = np.argmin(cv_log_error_array)\n",
    "clf = SGDClassifier(alpha=alpha[best_alpha], penalty='l2', loss='log', random_state=42)\n",
    "clf.fit(train_variation_feature_onehotCoding, y_train)\n",
    "sig_clf = CalibratedClassifierCV(clf, method=\"sigmoid\")\n",
    "sig_clf.fit(train_variation_feature_onehotCoding, y_train)\n",
    "\n",
    "predict_y = sig_clf.predict_proba(train_variation_feature_onehotCoding)\n",
    "print('For values of best alpha = ', alpha[best_alpha], \"The train log loss is:\",log_loss(y_train, predict_y, labels=clf.classes_, eps=1e-15))\n",
    "predict_y = sig_clf.predict_proba(test_variation_feature_onehotCoding)\n",
    "print('For values of best alpha = ', alpha[best_alpha], \"The test log loss is:\",log_loss(y_test, predict_y, labels=clf.classes_, eps=1e-15))\n"
   ]
  },
  {
   "cell_type": "markdown",
   "metadata": {},
   "source": [
    "# UNIVARIATE ANALYSIS ON TEXT FEATURE"
   ]
  },
  {
   "cell_type": "code",
   "execution_count": 30,
   "metadata": {},
   "outputs": [],
   "source": [
    "Text_vectorizer=TfidfVectorizer(ngram_range=(1,3),min_df=5,max_features=300000)\n",
    "tfidf_train_text=Text_vectorizer.fit_transform(X_train['TEXT'])\n",
    "tfidf_test_text=Text_vectorizer.transform(X_test['TEXT'])"
   ]
  },
  {
   "cell_type": "code",
   "execution_count": 31,
   "metadata": {},
   "outputs": [
    {
     "name": "stdout",
     "output_type": "stream",
     "text": [
      "For values of alpha =  1e-05 The log loss is: 1.0307703816810783\n",
      "For values of alpha =  0.0001 The log loss is: 0.9883942744234622\n",
      "For values of alpha =  0.001 The log loss is: 1.0594763823810922\n",
      "For values of alpha =  0.01 The log loss is: 1.2401935345261066\n",
      "For values of alpha =  0.1 The log loss is: 1.4644012156940187\n",
      "For values of alpha =  1 The log loss is: 1.5408836896698683\n"
     ]
    },
    {
     "data": {
      "image/png": "[encoded data removed]",
      "text/plain": [
       "<Figure size 432x288 with 1 Axes>"
      ]
     },
     "metadata": {
      "needs_background": "light"
     },
     "output_type": "display_data"
    },
    {
     "data": {
      "text/plain": [
       "CalibratedClassifierCV(base_estimator=SGDClassifier(alpha=0.0001, average=False,\n",
       "                                                    class_weight=None,\n",
       "                                                    early_stopping=False,\n",
       "                                                    epsilon=0.1, eta0=0.0,\n",
       "                                                    fit_intercept=True,\n",
       "                                                    l1_ratio=0.15,\n",
       "                                                    learning_rate='optimal',\n",
       "                                                    loss='log', max_iter=1000,\n",
       "                                                    n_iter_no_change=5,\n",
       "                                                    n_jobs=None, penalty='l2',\n",
       "                                                    power_t=0.5,\n",
       "                                                    random_state=42,\n",
       "                                                    shuffle=True, tol=0.001,\n",
       "                                                    validation_fraction=0.1,\n",
       "                                                    verbose=0,\n",
       "                                                    warm_start=False),\n",
       "                       cv=None, method='sigmoid')"
      ]
     },
     "execution_count": 31,
     "metadata": {},
     "output_type": "execute_result"
    }
   ],
   "source": [
    "alpha = [10 ** x for x in range(-5, 1)] # hyperparam for SGD classifier.\n",
    "cv_log_error_array=[]\n",
    "for i in alpha:\n",
    "    clf = SGDClassifier(alpha=i, penalty='l2', loss='log', random_state=42)\n",
    "    clf.fit(tfidf_train_text, y_train)\n",
    "    sig_clf = CalibratedClassifierCV(clf, method=\"sigmoid\")\n",
    "    sig_clf.fit(tfidf_train_text, y_train)\n",
    "    predict_y = sig_clf.predict_proba(tfidf_test_text)\n",
    "    cv_log_error_array.append(log_loss(y_test, predict_y, labels=clf.classes_, eps=1e-15))\n",
    "    print('For values of alpha = ', i, \"The log loss is:\",log_loss(y_test, predict_y, labels=clf.classes_, eps=1e-15))\n",
    "\n",
    "fig, ax = plt.subplots()\n",
    "ax.plot(alpha, cv_log_error_array,c='g')\n",
    "for i, txt in enumerate(np.round(cv_log_error_array,3)):\n",
    "    ax.annotate((alpha[i],np.round(txt,3)), (alpha[i],cv_log_error_array[i]))\n",
    "plt.grid()\n",
    "plt.xlabel(\"Alpha i's\")\n",
    "plt.ylabel(\"Error measure\")\n",
    "plt.show()\n",
    "\n",
    "\n",
    "best_alpha = np.argmin(cv_log_error_array)\n",
    "clf = SGDClassifier(alpha=alpha[best_alpha], penalty='l2', loss='log', random_state=42)\n",
    "clf.fit(tfidf_train_text, y_train)\n",
    "sig_clf = CalibratedClassifierCV(clf, method=\"sigmoid\")\n",
    "sig_clf.fit(tfidf_train_text, y_train)"
   ]
  },
  {
   "cell_type": "code",
   "execution_count": 32,
   "metadata": {},
   "outputs": [
    {
     "name": "stdout",
     "output_type": "stream",
     "text": [
      "For values of best alpha =  0.0001 The train log loss is: 0.6409132586647615\n",
      "For values of best alpha =  0.0001 The test log loss is: 0.9883942744234622\n"
     ]
    }
   ],
   "source": [
    "predict_y = sig_clf.predict_proba(tfidf_train_text)\n",
    "print('For values of best alpha = ', alpha[best_alpha], \"The train log loss is:\",log_loss(y_train, predict_y, labels=clf.classes_, eps=1e-15))\n",
    "predict_y = sig_clf.predict_proba(tfidf_test_text)\n",
    "print('For values of best alpha = ', alpha[best_alpha], \"The test log loss is:\",log_loss(y_test, predict_y, labels=clf.classes_, eps=1e-15))"
   ]
  },
  {
   "cell_type": "code",
   "execution_count": 33,
   "metadata": {},
   "outputs": [],
   "source": [
    "X_train1=hstack((X_train[['Gene_fe']].values,train_variation_feature_onehotCoding,tfidf_train_text)).tocsr()\n",
    "X_test1=hstack((X_test[['Gene_fe']].values,test_variation_feature_onehotCoding,tfidf_test_text)).tocsr()"
   ]
  },
  {
   "cell_type": "code",
   "execution_count": 34,
   "metadata": {},
   "outputs": [
    {
     "data": {
      "text/plain": [
       "<2225x302042 sparse matrix of type '<class 'numpy.float64'>'\n",
       "\twith 11746135 stored elements in Compressed Sparse Row format>"
      ]
     },
     "execution_count": 34,
     "metadata": {},
     "output_type": "execute_result"
    }
   ],
   "source": [
    "X_train1"
   ]
  },
  {
   "cell_type": "markdown",
   "metadata": {},
   "source": [
    "# MACHINE LEARNING MODELS"
   ]
  },
  {
   "cell_type": "markdown",
   "metadata": {},
   "source": [
    "1)Naive Bayes Model"
   ]
  },
  {
   "cell_type": "code",
   "execution_count": 32,
   "metadata": {},
   "outputs": [
    {
     "name": "stdout",
     "output_type": "stream",
     "text": [
      "for alpha = 1e-05\n",
      "Log Loss : 1.1870677527785705\n",
      "for alpha = 0.0001\n",
      "Log Loss : 1.183526898008643\n",
      "for alpha = 0.001\n",
      "Log Loss : 1.1814890178990674\n",
      "for alpha = 0.1\n",
      "Log Loss : 1.318490153055532\n",
      "for alpha = 1\n",
      "Log Loss : 1.4588435285884038\n",
      "for alpha = 10\n",
      "Log Loss : 1.4970329118217345\n",
      "for alpha = 100\n",
      "Log Loss : 1.59939856951854\n",
      "for alpha = 1000\n",
      "Log Loss : 1.5861548000619972\n"
     ]
    },
    {
     "data": {
      "image/png": "[encoded data removed]",
      "text/plain": [
       "<Figure size 432x288 with 1 Axes>"
      ]
     },
     "metadata": {
      "needs_background": "light"
     },
     "output_type": "display_data"
    },
    {
     "name": "stdout",
     "output_type": "stream",
     "text": [
      "For values of best alpha =  0.001 The train log loss is: 0.8004438686892175\n",
      "For values of best alpha =  0.001 The test log loss is: 1.1814890178990674\n",
      "Number of missclassified point : 0.354014598540146\n"
     ]
    }
   ],
   "source": [
    "alpha = [0.00001, 0.0001, 0.001, 0.1, 1, 10, 100,1000]\n",
    "cv_log_error_array = []\n",
    "for i in alpha:\n",
    "    print(\"for alpha =\", i)\n",
    "    clf = MultinomialNB(alpha=i)\n",
    "    clf.fit(X_train1, y_train)\n",
    "    sig_clf = CalibratedClassifierCV(clf, method=\"sigmoid\")\n",
    "    sig_clf.fit(X_train1, y_train)\n",
    "    sig_clf_probs = sig_clf.predict_proba(X_test1)\n",
    "    cv_log_error_array.append(log_loss(y_test, sig_clf_probs, labels=clf.classes_, eps=1e-15))\n",
    "    # to avoid rounding error while multiplying probabilites we use log-probability estimates\n",
    "    print(\"Log Loss :\",log_loss(y_test, sig_clf_probs)) \n",
    "\n",
    "fig, ax = plt.subplots()\n",
    "ax.plot(np.log10(alpha), cv_log_error_array,c='g')\n",
    "for i, txt in enumerate(np.round(cv_log_error_array,3)):\n",
    "    ax.annotate((alpha[i],str(txt)), (np.log10(alpha[i]),cv_log_error_array[i]))\n",
    "plt.grid()\n",
    "plt.xticks(np.log10(alpha))\n",
    "plt.title(\"Cross Validation Error for each alpha\")\n",
    "plt.xlabel(\"Alpha i's\")\n",
    "plt.ylabel(\"Error measure\")\n",
    "plt.show()\n",
    "\n",
    "\n",
    "best_alpha = np.argmin(cv_log_error_array)\n",
    "clf = MultinomialNB(alpha=alpha[best_alpha])\n",
    "clf.fit(X_train1, y_train)\n",
    "sig_clf = CalibratedClassifierCV(clf, method=\"sigmoid\")\n",
    "sig_clf.fit(X_train1, y_train)\n",
    "\n",
    "\n",
    "predict_y = sig_clf.predict_proba(X_train1)\n",
    "print('For values of best alpha = ', alpha[best_alpha], \"The train log loss is:\",log_loss(y_train, predict_y, labels=clf.classes_, eps=1e-15))\n",
    "predict_y = sig_clf.predict_proba(X_test1)\n",
    "print('For values of best alpha = ', alpha[best_alpha], \"The test log loss is:\",log_loss(y_test, predict_y, labels=clf.classes_, eps=1e-15))\n",
    "print(\"Number of missclassified point :\", np.count_nonzero((sig_clf.predict(X_test1)- y_test))/y_test.shape[0])\n"
   ]
  },
  {
   "cell_type": "code",
   "execution_count": 33,
   "metadata": {},
   "outputs": [
    {
     "data": {
      "text/plain": [
       "<matplotlib.axes._subplots.AxesSubplot at 0x24730bfca48>"
      ]
     },
     "execution_count": 33,
     "metadata": {},
     "output_type": "execute_result"
    },
    {
     "data": {
      "image/png": "[encoded data removed]",
      "text/plain": [
       "<Figure size 1080x1080 with 2 Axes>"
      ]
     },
     "metadata": {
      "needs_background": "light"
     },
     "output_type": "display_data"
    }
   ],
   "source": [
    "from sklearn.metrics import confusion_matrix\n",
    "import seaborn as sns\n",
    "plt.figure(figsize=(15,15))\n",
    "cm=confusion_matrix(y_test,sig_clf.predict(X_test1))\n",
    "sns.heatmap(cm,annot=True)"
   ]
  },
  {
   "cell_type": "markdown",
   "metadata": {},
   "source": [
    "<h2>LOGISTIC REGRESSION</h2>"
   ]
  },
  {
   "cell_type": "markdown",
   "metadata": {},
   "source": [
    "<h3>1) with class balancing</h3>"
   ]
  },
  {
   "cell_type": "code",
   "execution_count": 34,
   "metadata": {},
   "outputs": [
    {
     "name": "stdout",
     "output_type": "stream",
     "text": [
      "for alpha = 1e-06\n",
      "Log Loss : 0.9882084981422289\n",
      "for alpha = 1e-05\n",
      "Log Loss : 0.9912652132293273\n",
      "for alpha = 0.0001\n",
      "Log Loss : 0.9671535700399553\n",
      "for alpha = 0.001\n",
      "Log Loss : 1.0368572935475893\n",
      "for alpha = 0.01\n",
      "Log Loss : 1.494065301476834\n",
      "for alpha = 0.1\n",
      "Log Loss : 1.5539993399951653\n",
      "for alpha = 1\n",
      "Log Loss : 1.5472052271564631\n",
      "for alpha = 10\n",
      "Log Loss : 1.5465431108391725\n",
      "for alpha = 100\n",
      "Log Loss : 1.5464686791025952\n"
     ]
    },
    {
     "data": {
      "image/png": "[encoded data removed]",
      "text/plain": [
       "<Figure size 432x288 with 1 Axes>"
      ]
     },
     "metadata": {
      "needs_background": "light"
     },
     "output_type": "display_data"
    },
    {
     "name": "stdout",
     "output_type": "stream",
     "text": [
      "For values of best alpha =  0.0001 The train log loss is: 0.4082013140437994\n",
      "For values of best alpha =  0.0001 The test log loss is: 0.9671535700399553\n",
      "Number of missclassified point : 0.33211678832116787\n"
     ]
    }
   ],
   "source": [
    "alpha = [10 ** x for x in range(-6, 3)]\n",
    "cv_log_error_array = []\n",
    "for i in alpha:\n",
    "    print(\"for alpha =\", i)\n",
    "    clf = SGDClassifier(class_weight='balanced', alpha=i, penalty='l2', loss='log', random_state=42)\n",
    "    clf.fit(X_train1, y_train)\n",
    "    sig_clf = CalibratedClassifierCV(clf, method=\"sigmoid\")\n",
    "    sig_clf.fit(X_train1, y_train)\n",
    "    sig_clf_probs = sig_clf.predict_proba(X_test1)\n",
    "    cv_log_error_array.append(log_loss(y_test, sig_clf_probs, labels=clf.classes_, eps=1e-15))\n",
    "    # to avoid rounding error while multiplying probabilites we use log-probability estimates\n",
    "    print(\"Log Loss :\",log_loss(y_test, sig_clf_probs)) \n",
    "\n",
    "fig, ax = plt.subplots()\n",
    "ax.plot(alpha, cv_log_error_array,c='g')\n",
    "for i, txt in enumerate(np.round(cv_log_error_array,3)):\n",
    "    ax.annotate((alpha[i],str(txt)), (alpha[i],cv_log_error_array[i]))\n",
    "plt.grid()\n",
    "plt.title(\"Cross Validation Error for each alpha\")\n",
    "plt.xlabel(\"Alpha i's\")\n",
    "plt.ylabel(\"Error measure\")\n",
    "plt.show()\n",
    "\n",
    "\n",
    "best_alpha = np.argmin(cv_log_error_array)\n",
    "clf = SGDClassifier(class_weight='balanced', alpha=alpha[best_alpha], penalty='l2', loss='log', random_state=42)\n",
    "clf.fit(X_train1, y_train)\n",
    "sig_clf = CalibratedClassifierCV(clf, method=\"sigmoid\")\n",
    "sig_clf.fit(X_train1, y_train)\n",
    "\n",
    "predict_y = sig_clf.predict_proba(X_train1)\n",
    "print('For values of best alpha = ', alpha[best_alpha], \"The train log loss is:\",log_loss(y_train, predict_y, labels=clf.classes_, eps=1e-15))\n",
    "predict_y = sig_clf.predict_proba(X_test1)\n",
    "print('For values of best alpha = ', alpha[best_alpha], \"The test log loss is:\",log_loss(y_test, predict_y, labels=clf.classes_, eps=1e-15))\n",
    "print(\"Number of missclassified point :\", np.count_nonzero((sig_clf.predict(X_test1)- y_test))/y_test.shape[0])"
   ]
  },
  {
   "cell_type": "code",
   "execution_count": 35,
   "metadata": {
    "scrolled": true
   },
   "outputs": [
    {
     "data": {
      "text/plain": [
       "<matplotlib.axes._subplots.AxesSubplot at 0x247323dcb88>"
      ]
     },
     "execution_count": 35,
     "metadata": {},
     "output_type": "execute_result"
    },
    {
     "data": {
      "image/png": "[encoded data removed]",
      "text/plain": [
       "<Figure size 1080x1080 with 2 Axes>"
      ]
     },
     "metadata": {
      "needs_background": "light"
     },
     "output_type": "display_data"
    }
   ],
   "source": [
    "from sklearn.metrics import confusion_matrix\n",
    "import seaborn as sns\n",
    "plt.figure(figsize=(15,15))\n",
    "cm=confusion_matrix(y_test,sig_clf.predict(X_test1))\n",
    "sns.heatmap(cm,annot=True)"
   ]
  },
  {
   "cell_type": "markdown",
   "metadata": {},
   "source": [
    "<h3>2) without Balancing</h3>"
   ]
  },
  {
   "cell_type": "code",
   "execution_count": 36,
   "metadata": {},
   "outputs": [
    {
     "name": "stdout",
     "output_type": "stream",
     "text": [
      "for alpha = 1e-06\n",
      "Log Loss : 0.990047303356213\n",
      "for alpha = 1e-05\n",
      "Log Loss : 0.9890396800006194\n",
      "for alpha = 0.0001\n",
      "Log Loss : 0.9852210621032089\n",
      "for alpha = 0.001\n",
      "Log Loss : 1.0792283534563905\n",
      "for alpha = 0.01\n",
      "Log Loss : 1.3212661603057811\n",
      "for alpha = 0.1\n",
      "Log Loss : 1.5977403342617291\n",
      "for alpha = 1\n",
      "Log Loss : 1.5516249671390288\n"
     ]
    },
    {
     "data": {
      "image/png": "[encoded data removed]",
      "text/plain": [
       "<Figure size 432x288 with 1 Axes>"
      ]
     },
     "metadata": {
      "needs_background": "light"
     },
     "output_type": "display_data"
    },
    {
     "name": "stdout",
     "output_type": "stream",
     "text": [
      "For values of best alpha =  0.0001 The train log loss is: 0.4194262328948337\n",
      "For values of best alpha =  0.0001 The test log loss is: 0.9852210621032089\n",
      "Number of missclassified point : 0.33485401459854014\n"
     ]
    }
   ],
   "source": [
    "alpha = [10 ** x for x in range(-6, 1)]\n",
    "cv_log_error_array = []\n",
    "for i in alpha:\n",
    "    print(\"for alpha =\", i)\n",
    "    clf = SGDClassifier(alpha=i, penalty='l2', loss='log', random_state=42)\n",
    "    clf.fit(X_train1, y_train)\n",
    "    sig_clf = CalibratedClassifierCV(clf, method=\"sigmoid\")\n",
    "    sig_clf.fit(X_train1, y_train)\n",
    "    sig_clf_probs = sig_clf.predict_proba(X_test1)\n",
    "    cv_log_error_array.append(log_loss(y_test, sig_clf_probs, labels=clf.classes_, eps=1e-15))\n",
    "    print(\"Log Loss :\",log_loss(y_test, sig_clf_probs)) \n",
    "\n",
    "fig, ax = plt.subplots()\n",
    "ax.plot(alpha, cv_log_error_array,c='g')\n",
    "for i, txt in enumerate(np.round(cv_log_error_array,3)):\n",
    "    ax.annotate((alpha[i],str(txt)), (alpha[i],cv_log_error_array[i]))\n",
    "plt.grid()\n",
    "plt.title(\"Cross Validation Error for each alpha\")\n",
    "plt.xlabel(\"Alpha i's\")\n",
    "plt.ylabel(\"Error measure\")\n",
    "plt.show()\n",
    "\n",
    "\n",
    "best_alpha = np.argmin(cv_log_error_array)\n",
    "clf = SGDClassifier(alpha=alpha[best_alpha], penalty='l2', loss='log', random_state=42)\n",
    "clf.fit(X_train1, y_train)\n",
    "sig_clf = CalibratedClassifierCV(clf, method=\"sigmoid\")\n",
    "sig_clf.fit(X_train1, y_train)\n",
    "\n",
    "predict_y = sig_clf.predict_proba(X_train1)\n",
    "print('For values of best alpha = ', alpha[best_alpha], \"The train log loss is:\",log_loss(y_train, predict_y, labels=clf.classes_, eps=1e-15))\n",
    "predict_y = sig_clf.predict_proba(X_test1)\n",
    "print('For values of best alpha = ', alpha[best_alpha], \"The test log loss is:\",log_loss(y_test, predict_y, labels=clf.classes_, eps=1e-15))\n",
    "print(\"Number of missclassified point :\", np.count_nonzero((sig_clf.predict(X_test1)- y_test))/y_test.shape[0])"
   ]
  },
  {
   "cell_type": "code",
   "execution_count": 38,
   "metadata": {},
   "outputs": [
    {
     "data": {
      "text/plain": [
       "<matplotlib.axes._subplots.AxesSubplot at 0x2473219c088>"
      ]
     },
     "execution_count": 38,
     "metadata": {},
     "output_type": "execute_result"
    },
    {
     "data": {
      "image/png": "[encoded data removed]",
      "text/plain": [
       "<Figure size 1080x1080 with 2 Axes>"
      ]
     },
     "metadata": {
      "needs_background": "light"
     },
     "output_type": "display_data"
    }
   ],
   "source": [
    "from sklearn.metrics import confusion_matrix\n",
    "import seaborn as sns\n",
    "plt.figure(figsize=(15,15))\n",
    "cm=confusion_matrix(y_test,sig_clf.predict(X_test1))\n",
    "sns.heatmap(cm,annot=True)"
   ]
  },
  {
   "cell_type": "markdown",
   "metadata": {},
   "source": [
    "<h2>Linear Support Vector Machine</h2>"
   ]
  },
  {
   "cell_type": "code",
   "execution_count": 35,
   "metadata": {},
   "outputs": [
    {
     "name": "stdout",
     "output_type": "stream",
     "text": [
      "for C = 1e-05\n",
      "Log Loss : 0.9895808438975547\n",
      "for C = 0.0001\n",
      "Log Loss : 0.977805025105816\n",
      "for C = 0.001\n",
      "Log Loss : 1.0023519966948224\n",
      "for C = 0.01\n",
      "Log Loss : 1.280909116259197\n",
      "for C = 0.1\n",
      "Log Loss : 1.5418804962466635\n",
      "for C = 1\n",
      "Log Loss : 1.5454668365098123\n",
      "for C = 10\n",
      "Log Loss : 1.5464575102430471\n",
      "for C = 100\n",
      "Log Loss : 1.54645996790748\n"
     ]
    },
    {
     "data": {
      "image/png": "[encoded data removed]",
      "text/plain": [
       "<Figure size 432x288 with 1 Axes>"
      ]
     },
     "metadata": {
      "needs_background": "light"
     },
     "output_type": "display_data"
    },
    {
     "name": "stdout",
     "output_type": "stream",
     "text": [
      "For values of best alpha =  0.0001 The train log loss is: 0.37397447039795123\n",
      "For values of best alpha =  0.0001 The test log loss is: 0.977805025105816\n",
      "Number of missclassified point : 0.3385036496350365\n"
     ]
    }
   ],
   "source": [
    "alpha = [10 ** x for x in range(-5, 3)]\n",
    "cv_log_error_array = []\n",
    "for i in alpha:\n",
    "    print(\"for C =\", i)\n",
    "#     clf = SVC(C=i,kernel='linear',probability=True, class_weight='balanced')\n",
    "    clf = SGDClassifier( class_weight='balanced', alpha=i, penalty='l2', loss='hinge', random_state=42)\n",
    "    clf.fit(X_train1, y_train)\n",
    "    sig_clf = CalibratedClassifierCV(clf, method=\"sigmoid\")\n",
    "    sig_clf.fit(X_train1, y_train)\n",
    "    sig_clf_probs = sig_clf.predict_proba(X_test1)\n",
    "    cv_log_error_array.append(log_loss(y_test, sig_clf_probs, labels=clf.classes_, eps=1e-15))\n",
    "    print(\"Log Loss :\",log_loss(y_test, sig_clf_probs)) \n",
    "\n",
    "fig, ax = plt.subplots()\n",
    "ax.plot(alpha, cv_log_error_array,c='g')\n",
    "for i, txt in enumerate(np.round(cv_log_error_array,3)):\n",
    "    ax.annotate((alpha[i],str(txt)), (alpha[i],cv_log_error_array[i]))\n",
    "plt.grid()\n",
    "plt.title(\"Cross Validation Error for each alpha\")\n",
    "plt.xlabel(\"Alpha i's\")\n",
    "plt.ylabel(\"Error measure\")\n",
    "plt.show()\n",
    "\n",
    "\n",
    "best_alpha = np.argmin(cv_log_error_array)\n",
    "clf = SGDClassifier(class_weight='balanced', alpha=alpha[best_alpha], penalty='l2', loss='hinge', random_state=42)\n",
    "clf.fit(X_train1, y_train)\n",
    "sig_clf = CalibratedClassifierCV(clf, method=\"sigmoid\")\n",
    "sig_clf.fit(X_train1, y_train)\n",
    "\n",
    "predict_y = sig_clf.predict_proba(X_train1)\n",
    "print('For values of best alpha = ', alpha[best_alpha], \"The train log loss is:\",log_loss(y_train, predict_y, labels=clf.classes_, eps=1e-15))\n",
    "predict_y = sig_clf.predict_proba(X_test1)\n",
    "print('For values of best alpha = ', alpha[best_alpha], \"The test log loss is:\",log_loss(y_test, predict_y, labels=clf.classes_, eps=1e-15))\n",
    "print(\"Number of missclassified point :\", np.count_nonzero((sig_clf.predict(X_test1)- y_test))/y_test.shape[0])"
   ]
  },
  {
   "cell_type": "code",
   "execution_count": 36,
   "metadata": {},
   "outputs": [
    {
     "data": {
      "text/plain": [
       "<matplotlib.axes._subplots.AxesSubplot at 0x103388ae788>"
      ]
     },
     "execution_count": 36,
     "metadata": {},
     "output_type": "execute_result"
    },
    {
     "data": {
      "image/png": "[encoded data removed]",
      "text/plain": [
       "<Figure size 1080x1080 with 2 Axes>"
      ]
     },
     "metadata": {
      "needs_background": "light"
     },
     "output_type": "display_data"
    }
   ],
   "source": [
    "from sklearn.metrics import confusion_matrix\n",
    "import seaborn as sns\n",
    "plt.figure(figsize=(15,15))\n",
    "cm=confusion_matrix(y_test,sig_clf.predict(X_test1))\n",
    "sns.heatmap(cm,annot=True)"
   ]
  },
  {
   "cell_type": "markdown",
   "metadata": {},
   "source": [
    "<h2>Random Forest Classifier</h2>"
   ]
  },
  {
   "cell_type": "code",
   "execution_count": 32,
   "metadata": {},
   "outputs": [
    {
     "data": {
      "text/plain": [
       "{'n_estimators': 300, 'max_depth': 50}"
      ]
     },
     "execution_count": 32,
     "metadata": {},
     "output_type": "execute_result"
    }
   ],
   "source": [
    "from sklearn.model_selection import RandomizedSearchCV\n",
    "param_grid = {\"max_depth\":[5,10,50],\n",
    "              \"n_estimators\":[100,200,300,400,500]}\n",
    "\n",
    "model = RandomizedSearchCV(RandomForestClassifier(n_jobs=-1,random_state=25), param_distributions=param_grid,cv=3,n_jobs=-1)\n",
    "\n",
    "model.fit(X_train1,y_train)\n",
    "model.best_params_"
   ]
  },
  {
   "cell_type": "code",
   "execution_count": 37,
   "metadata": {},
   "outputs": [
    {
     "name": "stdout",
     "output_type": "stream",
     "text": [
      "Train log loss =  0.2101869047964812  Test log loss =  1.1302275743538654\n"
     ]
    }
   ],
   "source": [
    "clf=RandomForestClassifier(n_jobs=-1,random_state=25,max_depth=50,n_estimators=300)\n",
    "clf.fit(X_train1,y_train)\n",
    "y_pred_test=clf.predict_proba(X_test1)\n",
    "y_pred_train=clf.predict_proba(X_train1)\n",
    "log_loss_train = log_loss(y_train, y_pred_train, eps=1e-15)\n",
    "log_loss_test=log_loss(y_test,y_pred_test,eps=1e-15)\n",
    "print('Train log loss = ',log_loss_train,' Test log loss = ',log_loss_test)"
   ]
  },
  {
   "cell_type": "code",
   "execution_count": 38,
   "metadata": {},
   "outputs": [
    {
     "name": "stdout",
     "output_type": "stream",
     "text": [
      "Number of missclassified point : 0.3458029197080292\n"
     ]
    }
   ],
   "source": [
    "print(\"Number of missclassified point :\", np.count_nonzero((clf.predict(X_test1)- y_test))/y_test.shape[0])"
   ]
  },
  {
   "cell_type": "code",
   "execution_count": 40,
   "metadata": {},
   "outputs": [
    {
     "data": {
      "text/plain": [
       "<matplotlib.axes._subplots.AxesSubplot at 0x1033a46e188>"
      ]
     },
     "execution_count": 40,
     "metadata": {},
     "output_type": "execute_result"
    },
    {
     "data": {
      "image/png": "[encoded data removed]",
      "text/plain": [
       "<Figure size 1080x1080 with 2 Axes>"
      ]
     },
     "metadata": {
      "needs_background": "light"
     },
     "output_type": "display_data"
    }
   ],
   "source": [
    "from sklearn.metrics import confusion_matrix\n",
    "import seaborn as sns\n",
    "plt.figure(figsize=(15,15))\n",
    "cm=confusion_matrix(y_test,clf.predict(X_test1))\n",
    "sns.heatmap(cm,annot=True)"
   ]
  },
  {
   "cell_type": "markdown",
   "metadata": {},
   "source": [
    "<h3>Overview of all models</h3>"
   ]
  },
  {
   "cell_type": "code",
   "execution_count": 39,
   "metadata": {},
   "outputs": [
    {
     "name": "stdout",
     "output_type": "stream",
     "text": [
      "+----------------------------------------+----------+-----------------------+\n",
      "|                 Model                  | log loss | Mis Classified points |\n",
      "+----------------------------------------+----------+-----------------------+\n",
      "|              Naive Bayes               |  1.181   |         0.354         |\n",
      "| Logistic regression(without Balancing) |  0.985   |         0.334         |\n",
      "|  Logistic regression(with Balancing)   |  0.967   |         0.332         |\n",
      "|               Linear SVM               |  0.977   |         0.338         |\n",
      "|        Random Forest Classifier        |  1.130   |         0.345         |\n",
      "+----------------------------------------+----------+-----------------------+\n"
     ]
    }
   ],
   "source": [
    "from prettytable import PrettyTable    \n",
    "x = PrettyTable()\n",
    "x.field_names = [\"Model\",\"log loss\",\"Mis Classified points\"]\n",
    "x.add_row(['Naive Bayes','1.181','0.354'])\n",
    "x.add_row(['Logistic regression(without Balancing)','0.985','0.334'])\n",
    "x.add_row(['Logistic regression(with Balancing)','0.967','0.332'])\n",
    "x.add_row(['Linear SVM','0.977','0.338'])\n",
    "x.add_row(['Random Forest Classifier','1.130','0.345'])\n",
    "\n",
    "print(x)"
   ]
  }
 ],
 "metadata": {
  "kernelspec": {
   "display_name": "Python 3",
   "language": "python",
   "name": "python3"
  },
  "language_info": {
   "codemirror_mode": {
    "name": "ipython",
    "version": 3
   },
   "file_extension": ".py",
   "mimetype": "text/x-python",
   "name": "python",
   "nbconvert_exporter": "python",
   "pygments_lexer": "ipython3",
   "version": "3.7.6"
  }
 },
 "nbformat": 4,
 "nbformat_minor": 4
}
